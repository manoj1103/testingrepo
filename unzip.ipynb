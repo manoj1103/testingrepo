{
 "cells": [
  {
   "cell_type": "markdown",
   "id": "healthy-angel",
   "metadata": {},
   "source": [
    "# Standard data science libraries\n",
    "# Title of the Notebook\n",
    "### Author :- \n",
    "#############################\n",
    "#### import pandas as pd\n",
    "#### import numpy as np\n",
    "#############################\n"
   ]
  },
  {
   "cell_type": "code",
   "execution_count": 1,
   "id": "neither-appendix",
   "metadata": {},
   "outputs": [
    {
     "name": "stdout",
     "output_type": "stream",
     "text": [
      "Manoj Kumar\n"
     ]
    }
   ],
   "source": [
    "print(\"Manoj Kumar\")"
   ]
  },
  {
   "cell_type": "markdown",
   "id": "joint-yugoslavia",
   "metadata": {
    "heading_collapsed": true
   },
   "source": [
    "# Standard data science libraries\n",
    "<h1 style=\"color:red;\"> Hey Jupyter Notebook this is Manoj extension</h1>\n",
    "import pandas as pd\n",
    "import numpy as np\n"
   ]
  },
  {
   "cell_type": "markdown",
   "id": "minute-linux",
   "metadata": {},
   "source": [
    "# Standard data science libraries\n",
    "<h1 style=\"color:red;\"> Hey Jupyter Notebook this is Manoj extension</h1>\n",
    "import pandas as pd\n",
    "import numpy as np\n"
   ]
  },
  {
   "cell_type": "code",
   "execution_count": 1,
   "id": "criminal-modern",
   "metadata": {},
   "outputs": [
    {
     "name": "stdout",
     "output_type": "stream",
     "text": [
      "Extension added in Jhub...\n"
     ]
    }
   ],
   "source": [
    "import zipfile as zf\n",
    "files = zf.ZipFile(\"python-lib-master.zip\", 'r')\n",
    "files.extractall('/opt/tljh/user/lib/python3.7/site-packages/jupyter_contrib_nbextensions/nbextensions')\n",
    "files.close()\n",
    "print(\"Extension added in Jhub...\")"
   ]
  },
  {
   "cell_type": "code",
   "execution_count": null,
   "id": "regional-marks",
   "metadata": {},
   "outputs": [],
   "source": []
  }
 ],
 "metadata": {
  "kernelspec": {
   "display_name": "Python 3",
   "language": "python",
   "name": "python3"
  },
  "language_info": {
   "codemirror_mode": {
    "name": "ipython",
    "version": 3
   },
   "file_extension": ".py",
   "mimetype": "text/x-python",
   "name": "python",
   "nbconvert_exporter": "python",
   "pygments_lexer": "ipython3",
   "version": "3.7.3"
  }
 },
 "nbformat": 4,
 "nbformat_minor": 5
}
