{
 "cells": [
  {
   "cell_type": "markdown",
   "id": "respiratory-density",
   "metadata": {},
   "source": [
    "# Standard data science libraries\n",
    "# Title of the Notebook\n",
    "### Author :- \n",
    "#############################\n",
    "#### import pandas as pd\n",
    "#### import numpy as np\n",
    "#############################\n"
   ]
  },
  {
   "cell_type": "markdown",
   "id": "incorporate-boston",
   "metadata": {},
   "source": [
    "## Import Libraries"
   ]
  },
  {
   "cell_type": "code",
   "execution_count": null,
   "id": "global-vision",
   "metadata": {},
   "outputs": [],
   "source": [
    "print(\"Jhub to Github repos\")\n",
    "\n",
    "# try:\n",
    "#     import urllib\n",
    "# except ImportError:\n",
    "#     !pip install --user urllib\n"
   ]
  },
  {
   "cell_type": "code",
   "execution_count": null,
   "id": "happy-sherman",
   "metadata": {},
   "outputs": [],
   "source": [
    "### commit and push ######\n",
    "def git():\n",
    "    !git add testing.ipynb\n",
    "    !git commit -m \"checking\"\n",
    "    ! git push -f origin master\n",
    "    return\n",
    "git()"
   ]
  },
  {
   "cell_type": "code",
   "execution_count": null,
   "id": "beautiful-validity",
   "metadata": {},
   "outputs": [],
   "source": []
  }
 ],
 "metadata": {
  "kernelspec": {
   "display_name": "Python 3",
   "language": "python",
   "name": "python3"
  },
  "language_info": {
   "codemirror_mode": {
    "name": "ipython",
    "version": 3
   },
   "file_extension": ".py",
   "mimetype": "text/x-python",
   "name": "python",
   "nbconvert_exporter": "python",
   "pygments_lexer": "ipython3",
   "version": "3.7.3"
  }
 },
 "nbformat": 4,
 "nbformat_minor": 5
}
