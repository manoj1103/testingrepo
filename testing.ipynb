{
 "cells": [
  {
   "cell_type": "markdown",
   "id": "living-precipitation",
   "metadata": {},
   "source": [
    "# Standard data science libraries\n",
    "# Title of the Notebook\n",
    "### Author :- \n",
    "#############################\n",
    "#### import pandas as pd\n",
    "#### import numpy as np\n",
    "#############################\n"
   ]
  },
  {
   "cell_type": "markdown",
   "id": "expected-dover",
   "metadata": {},
   "source": [
    "## Import Libraries"
   ]
  },
  {
   "cell_type": "code",
   "execution_count": null,
   "id": "logical-customs",
   "metadata": {},
   "outputs": [],
   "source": [
    "print(\"Jhub to Github repo\")\n",
    "\n",
    "# try:\n",
    "#     import urllib\n",
    "# except ImportError:\n",
    "#     !pip install --user urllib\n"
   ]
  },
  {
   "cell_type": "code",
   "execution_count": 1,
   "id": "better-waste",
   "metadata": {},
   "outputs": [
    {
     "data": {
      "text/plain": [
       "'/home/jupyter-manoj'"
      ]
     },
     "execution_count": 1,
     "metadata": {},
     "output_type": "execute_result"
    }
   ],
   "source": [
    "import git\n",
    "from git import Repo\n",
    "import os\n",
    "os.getcwd()"
   ]
  }
 ],
 "metadata": {
  "kernelspec": {
   "display_name": "Python 3",
   "language": "python",
   "name": "python3"
  },
  "language_info": {
   "codemirror_mode": {
    "name": "ipython",
    "version": 3
   },
   "file_extension": ".py",
   "mimetype": "text/x-python",
   "name": "python",
   "nbconvert_exporter": "python",
   "pygments_lexer": "ipython3",
   "version": "3.7.3"
  }
 },
 "nbformat": 4,
 "nbformat_minor": 5
}
