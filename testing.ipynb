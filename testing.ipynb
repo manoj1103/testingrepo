{
 "cells": [
  {
   "cell_type": "markdown",
   "id": "generous-classification",
   "metadata": {},
   "source": [
    "# Standard data science libraries\n",
    "# Title of the Notebook\n",
    "### Author :- \n",
    "#############################\n",
    "#### import pandas as pd\n",
    "#### import numpy as np\n",
    "#############################\n"
   ]
  },
  {
   "cell_type": "markdown",
   "id": "closed-suicide",
   "metadata": {},
   "source": [
    "## Import Libraries"
   ]
  },
  {
   "cell_type": "code",
   "execution_count": 19,
   "id": "noble-cornell",
   "metadata": {},
   "outputs": [
    {
     "name": "stdout",
     "output_type": "stream",
     "text": [
      "Jhub to Github repos\n"
     ]
    }
   ],
   "source": [
    "print(\"Jhub to Github repo\")\n",
    "\n",
    "# try:\n",
    "#     import urllib\n",
    "# except ImportError:\n",
    "#     !pip install --user urllib\n"
   ]
  },
  {
   "cell_type": "code",
   "execution_count": 2,
   "id": "cloudy-unknown",
   "metadata": {},
   "outputs": [
    {
     "name": "stdout",
     "output_type": "stream",
     "text": [
      "On branch master\n",
      "Untracked files:\n",
      "  (use \"git add <file>...\" to include in what will be committed)\n",
      "\t\u001b[31m.bash_history\u001b[m\n",
      "\t\u001b[31m.bash_logout\u001b[m\n",
      "\t\u001b[31m.bashrc\u001b[m\n",
      "\t\u001b[31m.cache/\u001b[m\n",
      "\t\u001b[31m.gitconfig\u001b[m\n",
      "\t\u001b[31m.ipynb_checkpoints/\u001b[m\n",
      "\t\u001b[31m.ipython/\u001b[m\n",
      "\t\u001b[31m.jupyter/\u001b[m\n",
      "\t\u001b[31m.local/\u001b[m\n",
      "\t\u001b[31m.profile\u001b[m\n",
      "\t\u001b[31m.ssh/\u001b[m\n",
      "\t\u001b[31m.viminfo\u001b[m\n",
      "\t\u001b[31mgithubcommit/\u001b[m\n",
      "\t\u001b[31mjuphubrepo/\u001b[m\n",
      "\t\u001b[31mjupyter_notebook_config.py\u001b[m\n",
      "\t\u001b[31mpython-lib-master.zip\u001b[m\n",
      "\t\u001b[31munzip.ipynb\u001b[m\n",
      "\n",
      "nothing added to commit but untracked files present (use \"git add\" to track)\n",
      "fatal: 'juphubrepo/master' does not appear to be a git repository\n",
      "fatal: Could not read from remote repository.\n",
      "\n",
      "Please make sure you have the correct access rights\n",
      "and the repository exists.\n"
     ]
    }
   ],
   "source": [
    "def git():\n",
    "    !git add testing.ipynb\n",
    "    !git commit -m \"checking\"\n",
    "    ! git push -u juphubrepo/master\n",
    "    return\n",
    "git()"
   ]
  }
 ],
 "metadata": {
  "kernelspec": {
   "display_name": "Python 3",
   "language": "python",
   "name": "python3"
  },
  "language_info": {
   "codemirror_mode": {
    "name": "ipython",
    "version": 3
   },
   "file_extension": ".py",
   "mimetype": "text/x-python",
   "name": "python",
   "nbconvert_exporter": "python",
   "pygments_lexer": "ipython3",
   "version": "3.7.3"
  }
 },
 "nbformat": 4,
 "nbformat_minor": 5
}
