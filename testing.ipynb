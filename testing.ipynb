{
 "cells": [
  {
   "cell_type": "markdown",
   "id": "reliable-tutorial",
   "metadata": {},
   "source": [
    "# Standard data science libraries\n",
    "# Title of the Notebook\n",
    "### Author :- \n",
    "#############################\n",
    "#### import pandas as pd\n",
    "#### import numpy as np\n",
    "#############################\n"
   ]
  },
  {
   "cell_type": "markdown",
   "id": "express-phenomenon",
   "metadata": {},
   "source": [
    "## Import Libraries"
   ]
  },
  {
   "cell_type": "code",
   "execution_count": null,
   "id": "palestinian-gospel",
   "metadata": {},
   "outputs": [],
   "source": [
    "print(\"Jhub to Github repos\")\n",
    "\n",
    "# try:\n",
    "#     import urllib\n",
    "# except ImportError:\n",
    "#     !pip install --user urllib\n"
   ]
  },
  {
   "cell_type": "code",
   "execution_count": null,
   "id": "registered-doubt",
   "metadata": {},
   "outputs": [],
   "source": [
    "import git\n",
    "from git import Repo\n",
    "import os\n",
    "os.getcwd()"
   ]
  },
  {
   "cell_type": "code",
   "execution_count": null,
   "id": "comparative-security",
   "metadata": {},
   "outputs": [],
   "source": [
    "! git config --global user.email \"manojtinku03@gmail.com\"\n",
    "! git config --global user.name = \"manoj1103\"\n"
   ]
  },
  {
   "cell_type": "code",
   "execution_count": null,
   "id": "caroline-completion",
   "metadata": {},
   "outputs": [
    {
     "name": "stdout",
     "output_type": "stream",
     "text": [
      "[master 8763af3] checking\n",
      " 1 file changed, 41 insertions(+), 19 deletions(-)\n",
      "Username for 'https://github.com': "
     ]
    }
   ],
   "source": [
    "\n",
    "\n",
    "def git():\n",
    "    !git add testing.ipynb\n",
    "    !git commit -m \"checking\"\n",
    "    ! git push -f origin master\n",
    "    return\n",
    "git()"
   ]
  }
 ],
 "metadata": {
  "kernelspec": {
   "display_name": "Python 3",
   "language": "python",
   "name": "python3"
  },
  "language_info": {
   "codemirror_mode": {
    "name": "ipython",
    "version": 3
   },
   "file_extension": ".py",
   "mimetype": "text/x-python",
   "name": "python",
   "nbconvert_exporter": "python",
   "pygments_lexer": "ipython3",
   "version": "3.7.3"
  }
 },
 "nbformat": 4,
 "nbformat_minor": 5
}
