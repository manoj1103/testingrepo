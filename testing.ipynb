{
 "cells": [
  {
   "cell_type": "markdown",
   "id": "religious-community",
   "metadata": {},
   "source": [
    "# Standard data science libraries\n",
    "# Title of the Notebook\n",
    "### Author :- \n",
    "#############################\n",
    "#### import pandas as pd\n",
    "#### import numpy as np\n",
    "#############################\n"
   ]
  },
  {
   "cell_type": "markdown",
   "id": "measured-chicken",
   "metadata": {},
   "source": [
    "## Import Libraries"
   ]
  },
  {
   "cell_type": "code",
   "execution_count": 11,
   "id": "accompanied-letter",
   "metadata": {},
   "outputs": [
    {
     "name": "stdout",
     "output_type": "stream",
     "text": [
      "Jhub to Github repo\n"
     ]
    }
   ],
   "source": [
    "print(\"Jhub to Github repo\")\n",
    "# try:\n",
    "#     import urllib\n",
    "# except ImportError:\n",
    "#     !pip install --user urllib\n"
   ]
  },
  {
   "cell_type": "code",
   "execution_count": 14,
   "id": "controlled-capability",
   "metadata": {},
   "outputs": [
    {
     "name": "stdout",
     "output_type": "stream",
     "text": [
      "[master dff4a4f] checking\n",
      " 1 file changed, 11 insertions(+), 13 deletions(-)\n",
      "fatal: The current branch master has no upstream branch.\n",
      "To push the current branch and set the remote as upstream, use\n",
      "\n",
      "    git push --set-upstream juphubrepo master\n",
      "\n"
     ]
    }
   ],
   "source": [
    "def git():\n",
    "    !git add testing.ipynb\n",
    "    !git commit -m \"checking\"\n",
    "    ! git push --set-upstream juphubrepo master\n",
    "    return\n",
    "git()"
   ]
  }
 ],
 "metadata": {
  "kernelspec": {
   "display_name": "Python 3",
   "language": "python",
   "name": "python3"
  },
  "language_info": {
   "codemirror_mode": {
    "name": "ipython",
    "version": 3
   },
   "file_extension": ".py",
   "mimetype": "text/x-python",
   "name": "python",
   "nbconvert_exporter": "python",
   "pygments_lexer": "ipython3",
   "version": "3.7.3"
  }
 },
 "nbformat": 4,
 "nbformat_minor": 5
}
